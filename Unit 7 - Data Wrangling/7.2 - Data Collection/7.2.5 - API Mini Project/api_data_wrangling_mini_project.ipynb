{
 "cells": [
  {
   "cell_type": "markdown",
   "metadata": {},
   "source": [
    "This exercise will require you to pull some data from https://data.nasdaq.com/ (formerly Quandl API)."
   ]
  },
  {
   "cell_type": "markdown",
   "metadata": {},
   "source": [
    "As a first step, you will need to register a free account on the https://data.nasdaq.com/ website."
   ]
  },
  {
   "cell_type": "markdown",
   "metadata": {},
   "source": [
    "After you register, you will be provided with a unique API key, that you should store:\n",
    "\n",
    "*Note*: Use a `.env` file and put your key in there and `python-dotenv` to access it in this notebook. \n",
    "\n",
    "The code below uses a key that was used when generating this project but has since been deleted. Never submit your keys to source control. There is a `.env-example` file in this repository to illusrtate what you need. Copy that to a file called `.env` and use your own api key in that `.env` file. Make sure you also have a `.gitignore` file with a line for `.env` added to it. \n",
    "\n",
    "The standard Python gitignore is [here](https://github.com/github/gitignore/blob/master/Python.gitignore) you can just copy that. "
   ]
  },
  {
   "cell_type": "code",
   "execution_count": 6,
   "metadata": {},
   "outputs": [
    {
     "name": "stdout",
     "output_type": "stream",
     "text": [
      "FsdycwexurRKxfsMkmuk\n"
     ]
    }
   ],
   "source": [
    "# get api key from your .env file\n",
    "import os\n",
    "from dotenv import load_dotenv\n",
    "\n",
    "load_dotenv()\n",
    "API_KEY = os.getenv('NASDAQ_API_KEY')\n",
    "\n",
    "print(API_KEY)"
   ]
  },
  {
   "cell_type": "markdown",
   "metadata": {},
   "source": [
    "Nasdaq Data has a large number of data sources, but, unfortunately, most of them require a Premium subscription. Still, there are also a good number of free datasets."
   ]
  },
  {
   "cell_type": "markdown",
   "metadata": {},
   "source": [
    "For this mini project, we will focus on equities data from the Frankfurt Stock Exhange (FSE), which is available for free. We'll try and analyze the stock prices of a company called Carl Zeiss Meditec, which manufactures tools for eye examinations, as well as medical lasers for laser eye surgery: https://www.zeiss.com/meditec/int/home.html. The company is listed under the stock ticker AFX_X."
   ]
  },
  {
   "cell_type": "markdown",
   "metadata": {},
   "source": [
    "You can find the detailed Nasdaq Data API instructions here: https://docs.data.nasdaq.com/docs/in-depth-usage"
   ]
  },
  {
   "cell_type": "markdown",
   "metadata": {},
   "source": [
    "While there is a dedicated Python package for connecting to the Nasdaq API, we would prefer that you use the *requests* package, which can be easily downloaded using *pip* or *conda*. You can find the documentation for the package here: http://docs.python-requests.org/en/master/ "
   ]
  },
  {
   "cell_type": "markdown",
   "metadata": {},
   "source": [
    "Finally, apart from the *requests* package, you are encouraged to not use any third party Python packages, such as *pandas*, and instead focus on what's available in the Python Standard Library (the *collections* module might come in handy: https://pymotw.com/3/collections/).\n",
    "Also, since you won't have access to DataFrames, you are encouraged to us Python's native data structures - preferably dictionaries, though some questions can also be answered using lists.\n",
    "You can read more on these data structures here: https://docs.python.org/3/tutorial/datastructures.html"
   ]
  },
  {
   "cell_type": "markdown",
   "metadata": {},
   "source": [
    "Keep in mind that the JSON responses you will be getting from the API map almost one-to-one to Python's dictionaries. Unfortunately, they can be very nested, so make sure you read up on indexing dictionaries in the documentation provided above."
   ]
  },
  {
   "cell_type": "code",
   "execution_count": 79,
   "metadata": {},
   "outputs": [],
   "source": [
    "# First, import the relevant modules\n",
    "import requests\n",
    "from bs4 import BeautifulSoup\n",
    "import json\n",
    "import statistics"
   ]
  },
  {
   "cell_type": "markdown",
   "metadata": {},
   "source": [
    "Note: API's can change a bit with each version, for this exercise it is reccomended to use the nasdaq api at `https://data.nasdaq.com/api/v3/`. This is the same api as what used to be quandl so `https://www.quandl.com/api/v3/` should work too.\n",
    "\n",
    "Hint: We are looking for the `AFX_X` data on the `datasets/FSE/` dataset."
   ]
  },
  {
   "cell_type": "code",
   "execution_count": 19,
   "metadata": {},
   "outputs": [
    {
     "data": {
      "text/plain": [
       "'https://data.nasdaq.com/api/v3/datasets/FSE/AFX_X/data.json?collapse=daily&start_date=2020-11-19&end_date=2020-11-21&api_key=FsdycwexurRKxfsMkmuk'"
      ]
     },
     "execution_count": 19,
     "metadata": {},
     "output_type": "execute_result"
    }
   ],
   "source": [
    "# Now, call the Nasdaq API and pull out a small sample of the data (only one day) to get a glimpse\n",
    "# into the JSON structure that will be returned\n",
    "url = \"https://data.nasdaq.com/api/v3/datasets/FSE/AFX_X/data.json\" + \\\n",
    "        \"?collapse=daily&start_date=2020-11-19&end_date=2020-11-21\" + \\\n",
    "        \"&api_key=\" + API_KEY\n",
    "url"
   ]
  },
  {
   "cell_type": "code",
   "execution_count": 22,
   "metadata": {},
   "outputs": [],
   "source": [
    "r = requests.get(url)"
   ]
  },
  {
   "cell_type": "code",
   "execution_count": 23,
   "metadata": {},
   "outputs": [
    {
     "data": {
      "text/plain": [
       "{'dataset_data': {'limit': None,\n",
       "  'transform': None,\n",
       "  'column_index': None,\n",
       "  'column_names': ['Date',\n",
       "   'Open',\n",
       "   'High',\n",
       "   'Low',\n",
       "   'Close',\n",
       "   'Change',\n",
       "   'Traded Volume',\n",
       "   'Turnover',\n",
       "   'Last Price of the Day',\n",
       "   'Daily Traded Units',\n",
       "   'Daily Turnover'],\n",
       "  'start_date': '2020-11-19',\n",
       "  'end_date': '2020-11-21',\n",
       "  'frequency': 'daily',\n",
       "  'data': [['2020-11-20',\n",
       "    116.5,\n",
       "    118.0,\n",
       "    116.5,\n",
       "    117.5,\n",
       "    None,\n",
       "    295.0,\n",
       "    34736.0,\n",
       "    None,\n",
       "    None,\n",
       "    None],\n",
       "   ['2020-11-19',\n",
       "    115.6,\n",
       "    115.6,\n",
       "    115.6,\n",
       "    115.6,\n",
       "    None,\n",
       "    0.0,\n",
       "    0.0,\n",
       "    None,\n",
       "    None,\n",
       "    None]],\n",
       "  'collapse': 'daily',\n",
       "  'order': None}}"
      ]
     },
     "execution_count": 23,
     "metadata": {},
     "output_type": "execute_result"
    }
   ],
   "source": [
    "# Inspect the JSON structure of the object you created, and take note of how nested it is,\n",
    "# as well as the overall structure\n",
    "r.json()"
   ]
  },
  {
   "cell_type": "markdown",
   "metadata": {},
   "source": [
    "These are your tasks for this mini project:\n",
    "\n",
    "1. Collect data from the Franfurt Stock Exchange, for the ticker AFX_X, for the whole year 2017 (keep in mind that the date format is YYYY-MM-DD).\n",
    "2. Convert the returned JSON object into a Python dictionary.\n",
    "3. Calculate what the highest and lowest opening prices were for the stock in this period.\n",
    "4. What was the largest change in any one day (based on High and Low price)?\n",
    "5. What was the largest change between any two days (based on Closing Price)?\n",
    "6. What was the average daily trading volume during this year?\n",
    "7. (Optional) What was the median trading volume during this year. (Note: you may need to implement your own function for calculating the median.)"
   ]
  },
  {
   "cell_type": "code",
   "execution_count": 24,
   "metadata": {},
   "outputs": [
    {
     "data": {
      "text/plain": [
       "'https://data.nasdaq.com/api/v3/datasets/FSE/AFX_X/data.json?collapse=daily&start_date=2017-1-1&end_date=2017-12-31&api_key=FsdycwexurRKxfsMkmuk'"
      ]
     },
     "execution_count": 24,
     "metadata": {},
     "output_type": "execute_result"
    }
   ],
   "source": [
    "url = \"https://data.nasdaq.com/api/v3/datasets/FSE/AFX_X/data.json\" + \\\n",
    "        \"?collapse=daily&start_date=2017-1-1&end_date=2017-12-31\" + \\\n",
    "        \"&api_key=\" + API_KEY\n",
    "url"
   ]
  },
  {
   "cell_type": "code",
   "execution_count": 41,
   "metadata": {},
   "outputs": [
    {
     "data": {
      "text/plain": [
       "dict"
      ]
     },
     "execution_count": 41,
     "metadata": {},
     "output_type": "execute_result"
    }
   ],
   "source": [
    "#1 Collect data from the Franfurt Stock Exchange, for the ticker AFX_X, for the whole year 2017 (keep in mind that the date format is YYYY-MM-DD).\n",
    "r = requests.get(url)\n",
    "#2 Convert the returned JSON object into a Python dictionary.\n",
    "data_json = r.json()\n",
    "data_json_raw = data_json['dataset_data']\n",
    "type(data_json_raw)"
   ]
  },
  {
   "cell_type": "code",
   "execution_count": 42,
   "metadata": {},
   "outputs": [
    {
     "name": "stdout",
     "output_type": "stream",
     "text": [
      "dict_keys(['limit', 'transform', 'column_index', 'column_names', 'start_date', 'end_date', 'frequency', 'data', 'collapse', 'order'])\n"
     ]
    }
   ],
   "source": [
    "print(data_json_raw.keys())"
   ]
  },
  {
   "cell_type": "code",
   "execution_count": 48,
   "metadata": {},
   "outputs": [
    {
     "name": "stdout",
     "output_type": "stream",
     "text": [
      "['Date', 'Open', 'High', 'Low', 'Close', 'Change', 'Traded Volume', 'Turnover', 'Last Price of the Day', 'Daily Traded Units', 'Daily Turnover']\n"
     ]
    }
   ],
   "source": [
    "print(data_json_raw['column_names'])"
   ]
  },
  {
   "cell_type": "code",
   "execution_count": 63,
   "metadata": {},
   "outputs": [],
   "source": [
    "AFX_X_Date=[]\n",
    "AFX_X_Open=[]\n",
    "AFX_X_Clsoe=[]\n",
    "AFX_X_Change=[]\n",
    "AFX_X_Traded_Volume=[]\n",
    "\n",
    "for entry in data_json_raw['data']:\n",
    "    of_interest=[entry[0],entry[1],entry[4],entry[5],entry[6]]\n",
    "    to_be_write=[]\n",
    "    for item in of_interest[1:]:\n",
    "        if item != None:\n",
    "            to_be_write.append(float(item))\n",
    "        else:\n",
    "            to_be_write.append(float(0))\n",
    "    \n",
    "    AFX_X_Date.append(of_interest[0])\n",
    "    AFX_X_Open.append(to_be_write[0])\n",
    "    AFX_X_Clsoe.append(to_be_write[1])\n",
    "    AFX_X_Change.append(to_be_write[2])\n",
    "    AFX_X_Traded_Volume.append(to_be_write[3])\n",
    "    "
   ]
  },
  {
   "cell_type": "code",
   "execution_count": 64,
   "metadata": {},
   "outputs": [
    {
     "data": {
      "text/plain": [
       "[51.76, 51.65, 51.45, 51.05, 51.16]"
      ]
     },
     "execution_count": 64,
     "metadata": {},
     "output_type": "execute_result"
    }
   ],
   "source": [
    "AFX_X_Open[:5]"
   ]
  },
  {
   "cell_type": "code",
   "execution_count": 65,
   "metadata": {},
   "outputs": [
    {
     "name": "stdout",
     "output_type": "stream",
     "text": [
      "High: 53.11 2017-12-14\n",
      "Low: 34.0 2017-01-24\n"
     ]
    }
   ],
   "source": [
    "#3 Calculate what the highest and lowest opening prices were for the stock in this period.\n",
    "high_op = max(AFX_X_Open)\n",
    "high_op_loc = AFX_X_Open.index(high_op)\n",
    "low_op = min(i for i in AFX_X_Open if i > 0)\n",
    "low_op_loc = AFX_X_Open.index(low_op)\n",
    "print(\"High: \" + str(high_op) + \" \" + AFX_X_Date[high_op_loc])\n",
    "print(\"Low: \" + str(low_op) + \" \" + AFX_X_Date[low_op_loc])"
   ]
  },
  {
   "cell_type": "code",
   "execution_count": 75,
   "metadata": {},
   "outputs": [
    {
     "name": "stdout",
     "output_type": "stream",
     "text": [
      "Largest diff: 1.6899999999999977 2017-08-09\n"
     ]
    }
   ],
   "source": [
    "#4 What was the largest change in any one day (based on High and Low price)?\n",
    "AFX_X_diff=[]\n",
    "for i in range(len(AFX_X_Open)):\n",
    "    if AFX_X_Open[i] > 0.0 and AFX_X_Clsoe[i] > 0.0:\n",
    "        AFX_X_diff.append(abs(AFX_X_Open[i] - AFX_X_Clsoe[i]))\n",
    "    else:\n",
    "        AFX_X_diff.append(0)\n",
    "        \n",
    "high_diff = max(AFX_X_diff)\n",
    "high_diff_loc = AFX_X_diff.index(high_diff)\n",
    "print(\"Largest diff: \" + str(high_diff) + \" \" + AFX_X_Date[high_diff_loc])"
   ]
  },
  {
   "cell_type": "code",
   "execution_count": 77,
   "metadata": {},
   "outputs": [
    {
     "name": "stdout",
     "output_type": "stream",
     "text": [
      "Largest diff inter day: 2.559999999999995 2017-08-09\n"
     ]
    }
   ],
   "source": [
    "#5 What was the largest change between any two days (based on Closing Price)?\n",
    "AFX_X_diff_inter_day=[]\n",
    "for i in range(len(AFX_X_Open)-1):\n",
    "    if AFX_X_Clsoe[i] > 0.0 and AFX_X_Clsoe[i+1] > 0.0:\n",
    "        AFX_X_diff_inter_day.append(abs(AFX_X_Clsoe[i] - AFX_X_Clsoe[i+1]))\n",
    "    else:\n",
    "        AFX_X_diff_inter_day.append(0)\n",
    "        \n",
    "high_inter_day = max(AFX_X_diff_inter_day)\n",
    "high_inter_day_loc = AFX_X_diff_inter_day.index(high_inter_day)\n",
    "print(\"Largest diff inter day: \" + str(high_inter_day) + \" \" + AFX_X_Date[high_inter_day_loc])"
   ]
  },
  {
   "cell_type": "code",
   "execution_count": 83,
   "metadata": {},
   "outputs": [
    {
     "name": "stdout",
     "output_type": "stream",
     "text": [
      "Average daily volume: 89124.33725490196\n"
     ]
    }
   ],
   "source": [
    "#6 What was the average daily trading volume during this year?\n",
    "AFX_X_Traded_Volume_no_nan=[]\n",
    "for i in range(len(AFX_X_Traded_Volume)):\n",
    "    if AFX_X_Traded_Volume[i] > 0.0 :\n",
    "        AFX_X_Traded_Volume_no_nan.append(AFX_X_Traded_Volume[i])\n",
    "        \n",
    "AFX_X_Traded_Volume_no_nan_mean = statistics.mean(AFX_X_Traded_Volume_no_nan)\n",
    "print(\"Average daily volume: \" + str(AFX_X_Traded_Volume_no_nan_mean))"
   ]
  },
  {
   "cell_type": "code",
   "execution_count": 94,
   "metadata": {},
   "outputs": [
    {
     "name": "stdout",
     "output_type": "stream",
     "text": [
      "Median daily volume +1 : 76286.0\n",
      "Median daily volume -1 : 77420.0\n",
      "True Median daily volume: 76600.0\n"
     ]
    }
   ],
   "source": [
    "#7 (Optional) What was the median trading volume during this year. (Note: you may need to implement your own function for calculating the median.)\n",
    "AFX_X_Traded_Volume_no_nan.sort()\n",
    "median = int(round(len(AFX_X_Traded_Volume_no_nan)/2,0))\n",
    "print(\"Median daily volume +1 : \" + str(AFX_X_Traded_Volume_no_nan[median-1]))\n",
    "print(\"Median daily volume -1 : \" + str(AFX_X_Traded_Volume_no_nan[median+1]))\n",
    "print(\"True Median daily volume: \" + str(AFX_X_Traded_Volume_no_nan[median]))"
   ]
  },
  {
   "cell_type": "code",
   "execution_count": null,
   "metadata": {},
   "outputs": [],
   "source": []
  }
 ],
 "metadata": {
  "interpreter": {
   "hash": "7635eb1b9d0fe97add78a7368b6b431c09bb8ad5c42e437d64abdd99821c31ae"
  },
  "kernelspec": {
   "display_name": "Python 3 (ipykernel)",
   "language": "python",
   "name": "python3"
  },
  "language_info": {
   "codemirror_mode": {
    "name": "ipython",
    "version": 3
   },
   "file_extension": ".py",
   "mimetype": "text/x-python",
   "name": "python",
   "nbconvert_exporter": "python",
   "pygments_lexer": "ipython3",
   "version": "3.9.12"
  }
 },
 "nbformat": 4,
 "nbformat_minor": 4
}
